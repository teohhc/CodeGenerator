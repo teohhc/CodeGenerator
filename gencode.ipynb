{
 "cells": [
  {
   "cell_type": "code",
   "execution_count": 1,
   "id": "3d276739-142b-449a-9364-c5e795bbe967",
   "metadata": {
    "editable": true,
    "slideshow": {
     "slide_type": ""
    },
    "tags": []
   },
   "outputs": [],
   "source": [
    "import re\n",
    "import numpy as np\n",
    "import pandas as pd\n",
    "import json"
   ]
  },
  {
   "cell_type": "code",
   "execution_count": 2,
   "id": "b6070eef-61a6-4394-b6dc-9ac7ace33529",
   "metadata": {},
   "outputs": [],
   "source": [
    "from libcg.util.commentutil import CommentUtil\n",
    "from libcg.util.fileutil import FileUtil\n",
    "from libcg.util.treeutil import TreeUtil"
   ]
  },
  {
   "cell_type": "code",
   "execution_count": 3,
   "id": "e3165bce-fed0-4077-9df5-96a47af2f99d",
   "metadata": {},
   "outputs": [],
   "source": [
    "def pushToTHMTREE(theme, type, subid, data):\n",
    "    global tutil\n",
    "    evalRules = {}\n",
    "    for index, row in data.iterrows():\n",
    "        subid = row['SubThemeID']\n",
    "        num = row['Num']\n",
    "        others = tutil.futil.convertDfToJson(row, data.columns.tolist(), ['SubThemeID', 'Num'])\n",
    "        tutil.trees['THMTREE'], evalRules = tutil.addToTREE(tutil.trees['THMTREE'], 0, [theme, type, subid, [{num:others}]], 'THMTREE', tutil.rules['UNIQ'], evalRules)"
   ]
  },
  {
   "cell_type": "code",
   "execution_count": 4,
   "id": "6b7cd1bb-2822-4f34-9b1d-5fb51a232b20",
   "metadata": {},
   "outputs": [],
   "source": [
    "def pushToGRDTREE(grid, type, subid, data):\n",
    "    global tutil\n",
    "    evalRules = {}\n",
    "    for index, row in data.iterrows():\n",
    "        subid = row['SubGridID']\n",
    "        num = row['Num']\n",
    "        others = tutil.futil.convertDfToJson(row, data.columns.tolist(), ['SubGridID', 'Num'])\n",
    "        tutil.trees['GRDTREE'], evalRules = tutil.addToTREE(tutil.trees['GRDTREE'], 0, [grid, type, subid, [{num:others}]], 'GRDTREE', tutil.rules['UNIQ'], evalRules)"
   ]
  },
  {
   "cell_type": "code",
   "execution_count": 5,
   "id": "b5b52014-98ca-478a-89e2-8049fcb643a8",
   "metadata": {},
   "outputs": [],
   "source": [
    "def pushToDATTREE(dataid, type, subid, data):\n",
    "    global tutil\n",
    "    evalRules = {}\n",
    "    for index, row in data.iterrows():\n",
    "        subid = row['SubDataID']\n",
    "        num = row['Num']\n",
    "        others = tutil.futil.convertDfToJson(row, data.columns.tolist(), ['SubDataID', 'Num'])\n",
    "        tutil.trees['DATTREE'], evalRules = tutil.addToTREE(tutil.trees['DATTREE'], 0, [dataid, type, subid, [{num:others}]], 'DATTREE', tutil.rules['UNIQ'], evalRules)"
   ]
  },
  {
   "cell_type": "code",
   "execution_count": 6,
   "id": "e4c8ba32-69b1-46d7-b142-d8833b37d2cf",
   "metadata": {},
   "outputs": [],
   "source": [
    "def getTheme(theme):\n",
    "    if type(theme) is str:\n",
    "        global tutil\n",
    "        evalRules = {}\n",
    "        if (theme not in tutil.trees['THMTREE'].keys()):\n",
    "            THEMELIST = tutil.futil.readSetFromSheet('Themes', 'ThemeID', theme)    \n",
    "            legendRow = THEMELIST[THEMELIST['Type']=='Legend']\n",
    "            titleRow = THEMELIST[THEMELIST['Type']=='Title']\n",
    "            legend = legendRow.iloc[0]['SubThemeID']\n",
    "            title = titleRow.iloc[0]['SubThemeID']\n",
    "            colourset = titleRow.iloc[0]['SubThemeID']\n",
    "            THEMELEGLIST = tutil.futil.readSetFromSheet('Themes-Legend', 'SubThemeID', legend)\n",
    "            THEMETITLELIST = tutil.futil.readSetFromSheet('Themes-Title', 'SubThemeID', title)\n",
    "            THEMECOLOURSETLIST = tutil.futil.readSetFromSheet('Themes-Colourset', 'SubThemeID', colourset)\n",
    "            if colourset:\n",
    "                pushToTHMTREE(theme, 'Colourset', colourset, THEMECOLOURSETLIST)\n",
    "                tutil.trees['THMSUBTHM'], evalRules = tutil.addToTREE(tutil.trees['THMSUBTHM'], 0, [theme, [{'Colourset':colourset}]], 'THMSUBTHM', tutil.rules['UNIQ'], evalRules)\n",
    "            pushToTHMTREE(theme, 'Legend', legend, THEMELEGLIST)\n",
    "            pushToTHMTREE(theme, 'Title', title, THEMETITLELIST)\n",
    "            tutil.trees['THMSUBTHM'], evalRules = tutil.addToTREE(tutil.trees['THMSUBTHM'], 0, [theme, [{'Legend':legend}]], 'THMSUBTHM', tutil.rules['UNIQ'], evalRules)\n",
    "            tutil.trees['THMSUBTHM'], evalRules = tutil.addToTREE(tutil.trees['THMSUBTHM'], 0, [theme, [{'Title':title}]], 'THMSUBTHM', tutil.rules['UNIQ'], evalRules)"
   ]
  },
  {
   "cell_type": "code",
   "execution_count": 7,
   "id": "f9daddee-57d6-47a0-b919-888c6edb6bdf",
   "metadata": {},
   "outputs": [],
   "source": [
    "def getData(data):\n",
    "    if type(data) is str:\n",
    "        global tutil\n",
    "        evalRules = {}\n",
    "        if (data not in tutil.trees['DATTREE'].keys()):\n",
    "            DATLIST = tutil.futil.readSetFromSheet('Data', 'DataID', data)\n",
    "            dataPointRow = DATLIST[DATLIST['Type']=='Datapoint']\n",
    "            fieldListRow = DATLIST[DATLIST['Type']=='Fieldlist']\n",
    "            uriRow = DATLIST[DATLIST['Type']=='URI']\n",
    "            if len(uriRow)>0:\n",
    "                uriRow = DATLIST[DATLIST['Type']=='URI']\n",
    "                uriList = uriRow.iloc[0]['SubDataID']\n",
    "                DATAURILIST = tutil.futil.readSetFromSheet('Data-URI', 'SubDataID', uriList)\n",
    "                pushToDATTREE(data, 'URI', uriList, DATAURILIST)\n",
    "                tutil.trees['DATSUBDAT'], evalRules = tutil.addToTREE(tutil.trees['DATSUBDAT'], 0, [data, [{'URI':uriList}]], 'DATSUBDAT', tutil.rules['UNIQ'], evalRules)\n",
    "            dataPoint = dataPointRow.iloc[0]['SubDataID']\n",
    "            fieldList = fieldListRow.iloc[0]['SubDataID']\n",
    "            DATADPLIST = tutil.futil.readSetFromSheet('Data-Datapoint', 'SubDataID', dataPoint)\n",
    "            DATAFLLIST = tutil.futil.readSetFromSheet('Data-Fieldlist', 'SubDataID', fieldList)            \n",
    "            pushToDATTREE(data, 'Datapoint', dataPoint, DATADPLIST)\n",
    "            pushToDATTREE(data, 'Fieldlist', fieldList, DATAFLLIST)\n",
    "            tutil.trees['DATSUBDAT'], evalRules = tutil.addToTREE(tutil.trees['DATSUBDAT'], 0, [data, [{'Datapoint':dataPoint}]], 'DATSUBDAT', tutil.rules['UNIQ'], evalRules)\n",
    "            tutil.trees['DATSUBDAT'], evalRules = tutil.addToTREE(tutil.trees['DATSUBDAT'], 0, [data, [{'Fieldlist':fieldList}]], 'DATSUBDAT', tutil.rules['UNIQ'], evalRules)            "
   ]
  },
  {
   "cell_type": "code",
   "execution_count": 8,
   "id": "3bf2f7a8-c3ff-477a-817d-d1fada353590",
   "metadata": {},
   "outputs": [],
   "source": [
    "def getGrid(data):\n",
    "    if type(data) is str:\n",
    "        global tutil\n",
    "        evalRules = {}\n",
    "        if (data not in tutil.trees['GRDTREE'].keys()):\n",
    "            DATLIST = tutil.futil.readSetFromSheet('Grid', 'GridID', data)\n",
    "            configRow = DATLIST[DATLIST['Type']=='Config']\n",
    "            fieldListRow = DATLIST[DATLIST['Type']=='FieldHdrlist']\n",
    "            formatListRow = DATLIST[DATLIST['Type']=='Formatlist']\n",
    "            configs = configRow.iloc[0]['SubGridID']\n",
    "            fieldList = fieldListRow.iloc[0]['SubGridID']\n",
    "            formatList = formatListRow.iloc[0]['SubGridID']\n",
    "            DATACFGLIST = tutil.futil.readSetFromSheet('Grid-Config', 'SubGridID', configs)\n",
    "            DATAFLLIST = tutil.futil.readSetFromSheet('Grid-FieldHdrlist', 'SubGridID', fieldList)\n",
    "            DATAFMTLIST = tutil.futil.readSetFromSheet('Grid-Formatlist', 'SubGridID', formatList)\n",
    "            pushToGRDTREE(data, 'Config', configs, DATACFGLIST)\n",
    "            pushToGRDTREE(data, 'FieldHdrlist', fieldList, DATAFLLIST)\n",
    "            pushToGRDTREE(data, 'Formatlist', fieldList, DATAFMTLIST)\n",
    "            tutil.trees['GRDSUBDET'], evalRules = tutil.addToTREE(tutil.trees['GRDSUBDET'], 0, [data, [{'Config':configs}]], 'GRDSUBDET', tutil.rules['UNIQ'], evalRules)\n",
    "            tutil.trees['GRDSUBDET'], evalRules = tutil.addToTREE(tutil.trees['GRDSUBDET'], 0, [data, [{'FieldHdrlist':fieldList}]], 'GRDSUBDET', tutil.rules['UNIQ'], evalRules)\n",
    "            tutil.trees['GRDSUBDET'], evalRules = tutil.addToTREE(tutil.trees['GRDSUBDET'], 0, [data, [{'Formatlist':formatList}]], 'GRDSUBDET', tutil.rules['UNIQ'], evalRules)"
   ]
  },
  {
   "cell_type": "code",
   "execution_count": 9,
   "id": "536d5cad-8fcd-46da-80d3-fd74b4165d6f",
   "metadata": {},
   "outputs": [],
   "source": [
    "def funcResolve(tutil, param):\n",
    "    return tutil.resolveReserved(tutil.trees['THMTREE'], tutil.trees['THMSUBTHM'], param[0], param[1], param[2], [False, False], False, False)"
   ]
  },
  {
   "cell_type": "code",
   "execution_count": 10,
   "id": "5d7a772d-4104-4436-a343-4e6b4a716c7f",
   "metadata": {},
   "outputs": [],
   "source": [
    "def funcResolveData(tutil, param):\n",
    "    return tutil.resolveReserved(tutil.trees['DATTREE'], tutil.trees['DATSUBDAT'], param[0], param[1], param[2], [False, False], False, False)"
   ]
  },
  {
   "cell_type": "code",
   "execution_count": 11,
   "id": "34300401-27c4-4e9a-a14e-366886810ba6",
   "metadata": {},
   "outputs": [],
   "source": [
    "def funcResolveGrid(tutil, param):\n",
    "    return tutil.resolveReserved(tutil.trees['GRDTREE'], tutil.trees['GRDSUBDET'], param[0], param[1], param[2], [False, False], False, False)"
   ]
  },
  {
   "cell_type": "code",
   "execution_count": 12,
   "id": "8efe84c1-42a7-4bbe-8026-44e9fe81946b",
   "metadata": {},
   "outputs": [],
   "source": [
    "def funcResolveDataEsc(tutil, param):\n",
    "    #print(json.dumps({'---> funcResolveDataEsc': param }, sort_keys=True, indent=4))\n",
    "    result = tutil.resolveReserved(tutil.trees['DATTREE'], tutil.trees['DATSUBDAT'], param[0], param[1], param[2], [False, False], False, False)\n",
    "    return result"
   ]
  },
  {
   "cell_type": "code",
   "execution_count": 13,
   "id": "2c9e6a8d-9d45-44fb-a2e9-72d8020a7ef6",
   "metadata": {},
   "outputs": [],
   "source": [
    "def funcResolveGridEsc(tutil, param):\n",
    "    #print(json.dumps({'---> funcResolveGridEsc': param }, sort_keys=True, indent=4))\n",
    "    result = tutil.resolveReserved(tutil.trees['GRDTREE'], tutil.trees['GRDSUBDET'], param[0], param[1], param[2], [False, False], False, False)\n",
    "    return result"
   ]
  },
  {
   "cell_type": "code",
   "execution_count": 14,
   "id": "0e0e2536-bc6e-40b4-bb61-84d4c2b76852",
   "metadata": {},
   "outputs": [],
   "source": [
    "def funcIterateData(tutil, param):\n",
    "    result = param[1]\n",
    "    if param[2]:\n",
    "        #print(json.dumps({'---> funcIterateData': param }, sort_keys=True, indent=4))\n",
    "        mainID = param[0]\n",
    "        block = param[1]\n",
    "        extractPatternList = param[2]\n",
    "        regexPat = param[3]\n",
    "        resolvedStmt={}\n",
    "        markers = re.findall(r\"{}\".format(\"(##ITERATEDATA\\([^#]+\\)##)\"), block)\n",
    "        #print(\"markers\", markers)\n",
    "        for stmtIdx, patStmt in enumerate(extractPatternList):\n",
    "            RESERVED = patStmt[0]\n",
    "            paramList = patStmt[1].split(\",\")\n",
    "            TYPE = paramList[0]\n",
    "            STMT = paramList[1]\n",
    "            subId = tutil.trees['DATSUBDAT'][mainID][TYPE]\n",
    "            varList = json.loads(tutil.rules['LEVEL_3_RULES']['Replace']['FieldDelimiter'](paramList[2]))\n",
    "            #print(json.dumps({'varList':varList}, sort_keys=True, indent=4))\n",
    "            fieldlist = tutil.trees['DATTREE'][mainID][TYPE][subId]\n",
    "            #print(json.dumps({'fieldlist':fieldlist}, sort_keys=True, indent=4))\n",
    "            #value = resolveParams([KV[3], value])\n",
    "            subResult = \"\"\n",
    "            for idx, field in fieldlist.items():\n",
    "                subsList = []\n",
    "                for vIdx, v in enumerate(varList):\n",
    "                    #subsList[vIdx+1]=field[v]\n",
    "                    subsList.append(tutil.funcNullable(field[v]))\n",
    "                newSTMT = tutil.resolveParams([json.dumps(subsList), STMT])\n",
    "                subResult = \"{}\\n{}\".format(subResult, newSTMT)\n",
    "            resolvedStmt[stmtIdx] = subResult\n",
    "        for mIdx, m in enumerate(markers):\n",
    "            result = tutil.replacePattern(result, m, resolvedStmt[mIdx], [True, False])\n",
    "        #print(\"resolvedStmt\", resolvedStmt)\n",
    "    #result = tutil.resolveReserved(DATTREE, DATSUBDAT, param[0], param[1], param[2], [False, False], False, False)\n",
    "    return result"
   ]
  },
  {
   "cell_type": "code",
   "execution_count": 15,
   "id": "30169b42-12f6-43be-b2db-01fac8ba5b41",
   "metadata": {},
   "outputs": [],
   "source": [
    "def funcIterateGrid(tutil, param):\n",
    "    result = param[1]\n",
    "    if param[2]:\n",
    "        #print(json.dumps({'---> funcIterateGrid': param }, sort_keys=True, indent=4))\n",
    "        mainID = param[0]\n",
    "        block = param[1]\n",
    "        extractPatternList = param[2]\n",
    "        regexPat = param[3]\n",
    "        resolvedStmt={}\n",
    "        markers = re.findall(r\"{}\".format(\"(##ITERATEGRID\\([^#]+\\)##)\"), block)\n",
    "        #print(\"markers\", markers)\n",
    "        for stmtIdx, patStmt in enumerate(extractPatternList):\n",
    "            RESERVED = patStmt[0]\n",
    "            paramList = patStmt[1].split(\",\")\n",
    "            TYPE = paramList[0]\n",
    "            STMT = paramList[1]\n",
    "            subId = tutil.trees['GRDSUBDET'][mainID][TYPE]\n",
    "            varList = json.loads(tutil.rules['LEVEL_3_RULES']['Replace']['FieldDelimiter'](paramList[2]))\n",
    "            fieldlist = tutil.trees['GRDTREE'][mainID][TYPE][subId]\n",
    "            #value = resolveParams([KV[3], value])\n",
    "            subResult = \"\"\n",
    "            for idx, field in fieldlist.items():\n",
    "                subsList = []\n",
    "                for vIdx, v in enumerate(varList):\n",
    "                    #subsList[vIdx+1]=field[v]\n",
    "                    subsList.append(tutil.funcNullable(field[v]))\n",
    "                newSTMT = tutil.resolveParams([json.dumps(subsList), STMT])\n",
    "                subResult = \"{}\\n{}\".format(subResult, newSTMT)\n",
    "            resolvedStmt[stmtIdx] = subResult\n",
    "        for mIdx, m in enumerate(markers):\n",
    "            result = tutil.replacePattern(result, m, resolvedStmt[mIdx], [True, False])\n",
    "        #print(\"resolvedStmt\", resolvedStmt)\n",
    "    #result = tutil.resolveReserved(GRDTREE, GRDSUBDET, param[0], param[1], param[2], [False, False], False, False)\n",
    "    return result"
   ]
  },
  {
   "cell_type": "code",
   "execution_count": 16,
   "id": "0f7e9575-966c-4422-9a0e-893c21601627",
   "metadata": {},
   "outputs": [],
   "source": [
    "def funcIterateThemes(tutil, param):\n",
    "    result = param[1]\n",
    "    if param[2]:\n",
    "        #print(json.dumps({'---> funcIterateThemes': param }, sort_keys=True, indent=4))\n",
    "        mainID = param[0]\n",
    "        block = param[1]\n",
    "        extractPatternList = param[2]\n",
    "        regexPat = param[3]\n",
    "        resolvedStmt={}\n",
    "        markers = re.findall(r\"{}\".format(\"(##ITERATETHEMES\\([^#]+\\)##)\"), block)\n",
    "        #print(\"markers-->\", markers)\n",
    "        for stmtIdx, patStmt in enumerate(extractPatternList):\n",
    "            RESERVED = patStmt[0]\n",
    "            paramList = patStmt[1].split(\",\")\n",
    "            TYPE = paramList[0]\n",
    "            STMT = paramList[1]\n",
    "            #print(\"TYPE[{}]MAINID[{}]-->OUTSIDE\".format(TYPE,mainID))\n",
    "            if TYPE in tutil.trees['THMTREE'][mainID]:\n",
    "                subId = tutil.trees['THMSUBTHM'][mainID][TYPE]\n",
    "                #print(\"paramList\", paramList)\n",
    "                varList = json.loads(tutil.rules['LEVEL_3_RULES']['Replace']['FieldDelimiter'](paramList[2]))\n",
    "                #print(\"varList-->INSIDE \", varList)\n",
    "                if subId in tutil.trees['THMSUBTHM'][mainID][TYPE]:\n",
    "                    fieldlist = tutil.trees['THMTREE'][mainID][TYPE][subId]\n",
    "                    #print(\"fieldlist-->\", fieldlist)\n",
    "                    #value = resolveParams([KV[3], value])\n",
    "                    subResult = \"\"\n",
    "                    for idx, field in fieldlist.items():\n",
    "                        subsList = []\n",
    "                        for vIdx, v in enumerate(varList):\n",
    "                            #subsList[vIdx+1]=field[v]\n",
    "                            subsList.append(tutil.funcNullable(field[v]))\n",
    "                        newSTMT = tutil.resolveParams([json.dumps(subsList), STMT])\n",
    "                        subResult = \"{}\\n{}\".format(subResult, newSTMT)\n",
    "                        resolvedStmt[stmtIdx] = subResult\n",
    "        for mIdx, m in enumerate(markers):\n",
    "            #print(\"resolvedStmt\", resolvedStmt)\n",
    "            result = tutil.replacePattern(result, m, resolvedStmt[mIdx], [True, False])\n",
    "        #print(\"resolvedStmt\", resolvedStmt)\n",
    "    #result = tutil.resolveReserved(THMTREE, THMSUBTHM, param[0], param[1], param[2], [False, False], False, False)\n",
    "    return result"
   ]
  },
  {
   "cell_type": "code",
   "execution_count": 17,
   "id": "3c5500a6-1519-482f-94b9-92788da2f4c4",
   "metadata": {},
   "outputs": [],
   "source": [
    "def runMainSetup(cfgfile, sheetName, futil, tutil):\n",
    "    cfg = pd.ExcelFile(cfgfile)\n",
    "    df =  pd.read_excel(cfg, sheetName)\n",
    "    tutil.getVar()\n",
    "    for index, row in df.iterrows():\n",
    "        tutil.getTemplate(row['CodeBlockID'])\n",
    "        getTheme(row['ThemeID'])\n",
    "        getData(row['DataID'])\n",
    "        getGrid(row['GridID'])\n",
    "    for index, row in df.iterrows():\n",
    "        tutil.prepBlock(tutil.getReservedToken('BlockName',row), tutil.getReservedToken('CodeBlockID',row), {\n",
    "                'ThemeID': tutil.getReservedToken('ThemeID',row),\n",
    "                'DataID': tutil.getReservedToken('DataID',row),\n",
    "                'GridID': tutil.getReservedToken('GridID',row)\n",
    "        })\n",
    "    for filename, blocks in tutil.trees['BLKTREE'].items():\n",
    "        #print(filename)\n",
    "        tutil.injectCode(filename, blocks)"
   ]
  },
  {
   "cell_type": "code",
   "execution_count": 18,
   "id": "6e0cc072-e169-41e6-b5e8-b84f9599c355",
   "metadata": {},
   "outputs": [],
   "source": [
    "COMMENT_FUNCT={\n",
    "    'CS': CommentUtil.commentSlash,\n",
    "    'TS': CommentUtil.commentSlash,\n",
    "    'HTML': CommentUtil.commentHTML\n",
    "}"
   ]
  },
  {
   "cell_type": "code",
   "execution_count": 19,
   "id": "7b1d9f61-2360-4bd9-8777-6b051b63eef6",
   "metadata": {},
   "outputs": [],
   "source": [
    "RULES = {\n",
    "    'UNIQ' : {\n",
    "        0:{\n",
    "            'InetAPI/Tts.Business.Logic/Aipm/AipmPortfolioScenarioManager.cs':[1, 2],\n",
    "            'InetAPI/src/ApiGateways/Web.Bff.Admin/Controllers/Tts/Aipm/AipmPortfolioScenarioController.cs':[1],\n",
    "            'InetAPI/Tts.Business.ViewModels/Aipm/PortfolioOptSummaryProjects.cs':[1],\n",
    "            'InetAPI/Tts.Business.ViewModels/Aipm/AipmPortfolioResultChartModel.cs':[1],\n",
    "            'InetUI/src/app/views/aipm/portfolio/portfolio.service.ts':[1,2],\n",
    "            'InetUI/src/app/views/aipm/portfolio/portfolio.interface.ts':[1]\n",
    "        }\n",
    "    },\n",
    "    'STARTMARKER':\".*GENCODE:MARKER:.*:START.*\",\n",
    "    'ENDMARKER':\".*GENCODE:MARKER:.*:END.*\",\n",
    "    'LEVEL_1_SUB':'##BLOCK##',\n",
    "    'LEVEL_2_SUB':{\n",
    "        'ThemeID': {\n",
    "            '##(RESOLVE)\\(([^#]+)\\)##': funcResolve,\n",
    "            '##(ITERATETHEMES)\\(([^#]+)\\)##': funcIterateThemes\n",
    "        },\n",
    "        'DataID': {\n",
    "            '##(RESOLVEDATA)\\(([^#]+)\\)##': funcResolveData,\n",
    "            '##(RESOLVEDATAESC)\\(([^#]+)\\)##': funcResolveDataEsc,\n",
    "            '##(ITERATEDATA)\\(([^#]+)\\)##': funcIterateData\n",
    "        },\n",
    "        'GridID': {\n",
    "            '##(RESOLVEGRID)\\(([^#]+)\\)##': funcResolveGrid,\n",
    "            '##(RESOLVEGRIDESC)\\(([^#]+)\\)##': funcResolveGridEsc,\n",
    "            '##(ITERATEGRID)\\(([^#]+)\\)##': funcIterateGrid\n",
    "        },\n",
    "        'VariableID':{\n",
    "            '##(RESOLVEVAR)\\(([^#]+)\\)##': TreeUtil.funcResolveVar,\n",
    "            '##(PRESERVE)\\(([^#]+)\\)##': TreeUtil.funcResolvePreserve\n",
    "        }\n",
    "    },\n",
    "    'LEVEL_3_SUB':{\n",
    "        'Param': {\n",
    "            '(!!!PARAM:[^:]+:!!!)': TreeUtil.funcResolveParam,\n",
    "            '(!!!PARAMDQUOTE:[^:]+:!!!)': TreeUtil.funcResolveParamDQuote,\n",
    "            '(!!!PARAMDQUOTECOMMA:[^:]+:!!!)': TreeUtil.funcResolveParamDQuoteComma,\n",
    "            '(!!!PARAMCOMMA:[^:]+:!!!)': TreeUtil.funcResolveParamComma\n",
    "        }\n",
    "    },\n",
    "    'LEVEL_3_RULES':{\n",
    "        \"Replace\": {\n",
    "            \"FieldDelimiter\": TreeUtil.level3_rep_fd\n",
    "        }\n",
    "    },\n",
    "    'ESCAPERULE':{\n",
    "        'SQL': TreeUtil.padQuote\n",
    "    },\n",
    "    # NULLABLERULE is to cater for C# nullable declaration for datatype, adds a question mark at the end\n",
    "    'NULLABLERULE':[\n",
    "        'double',\n",
    "        'int'\n",
    "    ],\n",
    "    'CONSTANTFUNC':{\n",
    "        '!!!COMMA!!!': TreeUtil.funcResolveComma\n",
    "    }\n",
    "}"
   ]
  },
  {
   "cell_type": "code",
   "execution_count": 20,
   "id": "88d9e152-13a1-44d4-8b73-cc075d73c129",
   "metadata": {},
   "outputs": [],
   "source": [
    "TREES = {\n",
    "\t'TPLTREE' : {},\n",
    "\t'BLKTREE' : {},\n",
    "\t'PHYTREE' : {},\n",
    "\t'THMTREE' : {},\n",
    "\t'GRDTREE' : {},\n",
    "\t'DATTREE' : {},\n",
    "\t'CLRTREE' : {},\n",
    "\t'VARTREE' : {},\n",
    "\t'NVPTREE' : {},\n",
    "\t'THMSUBTHM' : {},\n",
    "\t'DATSUBDAT' : {},\n",
    "\t'GRDSUBDET' : {},\n",
    "\t'uniqBlock' : {}\n",
    "}"
   ]
  },
  {
   "cell_type": "code",
   "execution_count": 21,
   "id": "4fa187a9-3c23-44ca-8ce4-0e8c8a7eb2bf",
   "metadata": {},
   "outputs": [],
   "source": [
    "futil = FileUtil(\"Config/genCodeCfg.xls\", COMMENT_FUNCT)"
   ]
  },
  {
   "cell_type": "code",
   "execution_count": 22,
   "id": "bddc297d-29c9-4b3c-bbb9-6f2a17c9f558",
   "metadata": {},
   "outputs": [],
   "source": [
    "tutil = TreeUtil(futil, TREES, RULES)"
   ]
  },
  {
   "cell_type": "markdown",
   "id": "3dab4d90-972b-4abf-9fea-d9e1f036f181",
   "metadata": {},
   "source": [
    "cfgSheets = cfg.sheet_names\n",
    "#print(cfgSheets)"
   ]
  },
  {
   "cell_type": "code",
   "execution_count": 23,
   "id": "963a42bd-332e-4fe1-8189-d68c1fcc7495",
   "metadata": {
    "scrolled": true
   },
   "outputs": [],
   "source": [
    "runMainSetup(\"Config/genCodeCfg.xls\", 'MainSetup', futil, tutil)"
   ]
  },
  {
   "cell_type": "markdown",
   "id": "f366d844-2606-4aec-ad99-f633f9105d0e",
   "metadata": {},
   "source": [
    "print(json.dumps(GRDTREE['PrioritisedProjectGrid']['Config']['PrioritisedProjectGridCFG'][1]['ActionRule'], indent=2))"
   ]
  },
  {
   "cell_type": "markdown",
   "id": "55ea1c00-4093-4259-a765-173dea4a7248",
   "metadata": {
    "editable": true,
    "slideshow": {
     "slide_type": ""
    },
    "tags": []
   },
   "source": [
    "print(json.dumps(BLKTREE['InetUI/src/app/views/aipm/portfolio/scenario-config/alternate-result/alternate-result.component.ts'], indent=2))"
   ]
  }
 ],
 "metadata": {
  "kernelspec": {
   "display_name": "Python 3 (ipykernel)",
   "language": "python",
   "name": "python3"
  },
  "language_info": {
   "codemirror_mode": {
    "name": "ipython",
    "version": 3
   },
   "file_extension": ".py",
   "mimetype": "text/x-python",
   "name": "python",
   "nbconvert_exporter": "python",
   "pygments_lexer": "ipython3",
   "version": "3.9.2"
  }
 },
 "nbformat": 4,
 "nbformat_minor": 5
}
