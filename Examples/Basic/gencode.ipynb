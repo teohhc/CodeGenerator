{
 "cells": [
  {
   "cell_type": "code",
   "execution_count": 1,
   "id": "3d276739-142b-449a-9364-c5e795bbe967",
   "metadata": {
    "editable": true,
    "slideshow": {
     "slide_type": ""
    },
    "tags": []
   },
   "outputs": [],
   "source": [
    "import re\n",
    "import numpy as np\n",
    "import pandas as pd\n",
    "import json"
   ]
  },
  {
   "cell_type": "code",
   "execution_count": 2,
   "id": "b6070eef-61a6-4394-b6dc-9ac7ace33529",
   "metadata": {},
   "outputs": [],
   "source": [
    "from libcg.util.commentutil import CommentUtil\n",
    "from libcg.util.fileutil import FileUtil\n",
    "from libcg.util.treeutil import TreeUtil"
   ]
  },
  {
   "cell_type": "code",
   "execution_count": 3,
   "id": "3c5500a6-1519-482f-94b9-92788da2f4c4",
   "metadata": {},
   "outputs": [],
   "source": [
    "def runMainSetup(cfgfile, sheetName, futil, tutil):\n",
    "    cfg = pd.ExcelFile(cfgfile)\n",
    "    df =  pd.read_excel(cfg, sheetName)\n",
    "    tutil.getVar()\n",
    "    for index, row in df.iterrows():\n",
    "        tutil.getTemplate(row['CodeBlockID'])\n",
    "    for index, row in df.iterrows():\n",
    "        tutil.prepBlock(tutil.getReservedToken('BlockName',row), tutil.getReservedToken('CodeBlockID',row), {\n",
    "        })\n",
    "    for filename, blocks in tutil.trees['BLKTREE'].items():\n",
    "        tutil.injectCode(filename, blocks)"
   ]
  },
  {
   "cell_type": "code",
   "execution_count": 4,
   "id": "6e0cc072-e169-41e6-b5e8-b84f9599c355",
   "metadata": {},
   "outputs": [],
   "source": [
    "COMMENT_FUNCT={\n",
    "    'CS': CommentUtil.commentSlash,\n",
    "    'TS': CommentUtil.commentSlash,\n",
    "    'HTML': CommentUtil.commentHTML,\n",
    "    'SAS': CommentUtil.commentSAS\n",
    "}"
   ]
  },
  {
   "cell_type": "code",
   "execution_count": 5,
   "id": "7b1d9f61-2360-4bd9-8777-6b051b63eef6",
   "metadata": {},
   "outputs": [],
   "source": [
    "RULES = {\n",
    "    'UNIQ' : {\n",
    "        0:{\n",
    "        }\n",
    "    },\n",
    "    'STARTMARKER':\".*GENCODE:MARKER:.*:START.*\",\n",
    "    'ENDMARKER':\".*GENCODE:MARKER:.*:END.*\",\n",
    "    'LEVEL_1_SUB':'##BLOCK##',\n",
    "    'LEVEL_2_SUB':{\n",
    "        'VariableID':{\n",
    "            '##(RESOLVEVAR)\\(([^#]+)\\)##': TreeUtil.funcResolveVar,\n",
    "            '##(PRESERVE)\\(([^#]+)\\)##': TreeUtil.funcResolvePreserve\n",
    "        }\n",
    "    },\n",
    "    'LEVEL_3_SUB':{\n",
    "        'Param': {\n",
    "            '(!!!PARAM:[^:]+:!!!)': TreeUtil.funcResolveParam,\n",
    "            '(!!!PARAMDQUOTE:[^:]+:!!!)': TreeUtil.funcResolveParamDQuote,\n",
    "            '(!!!PARAMDQUOTECOMMA:[^:]+:!!!)': TreeUtil.funcResolveParamDQuoteComma,\n",
    "            '(!!!PARAMCOMMA:[^:]+:!!!)': TreeUtil.funcResolveParamComma\n",
    "        }\n",
    "    },\n",
    "    'LEVEL_3_RULES':{\n",
    "        \"Replace\": {\n",
    "            \"FieldDelimiter\": TreeUtil.level3_rep_fd\n",
    "        }\n",
    "    },\n",
    "    'ESCAPERULE':{\n",
    "        'SQL': TreeUtil.padQuote\n",
    "    },\n",
    "    # NULLABLERULE is to cater for C# nullable declaration for datatype, adds a question mark at the end\n",
    "    'NULLABLERULE':[\n",
    "        'double',\n",
    "        'int'\n",
    "    ],\n",
    "    'CONSTANTFUNC':{\n",
    "        '!!!COMMA!!!': TreeUtil.funcResolveComma\n",
    "    }\n",
    "}"
   ]
  },
  {
   "cell_type": "code",
   "execution_count": 6,
   "id": "88d9e152-13a1-44d4-8b73-cc075d73c129",
   "metadata": {},
   "outputs": [],
   "source": [
    "TREES = {\n",
    "\t'TPLTREE' : {},\n",
    "\t'BLKTREE' : {},\n",
    "\t'PHYTREE' : {},\n",
    "\t'DATTREE' : {},\n",
    "\t'CLRTREE' : {},\n",
    "\t'VARTREE' : {},\n",
    "\t'NVPTREE' : {},\n",
    "\t'uniqBlock' : {}\n",
    "}"
   ]
  },
  {
   "cell_type": "code",
   "execution_count": 7,
   "id": "4508bf60-4e15-4d99-b396-be25b83057e4",
   "metadata": {},
   "outputs": [],
   "source": [
    "configFile=\"Config/genCodeCfg_Sample01.xls\""
   ]
  },
  {
   "cell_type": "code",
   "execution_count": 8,
   "id": "4fa187a9-3c23-44ca-8ce4-0e8c8a7eb2bf",
   "metadata": {},
   "outputs": [],
   "source": [
    "futil = FileUtil(configFile, COMMENT_FUNCT)"
   ]
  },
  {
   "cell_type": "code",
   "execution_count": 9,
   "id": "bddc297d-29c9-4b3c-bbb9-6f2a17c9f558",
   "metadata": {},
   "outputs": [],
   "source": [
    "tutil = TreeUtil(futil, TREES, RULES)"
   ]
  },
  {
   "cell_type": "code",
   "execution_count": 10,
   "id": "963a42bd-332e-4fe1-8189-d68c1fcc7495",
   "metadata": {
    "scrolled": true
   },
   "outputs": [],
   "source": [
    "runMainSetup(configFile, 'MainSetup', futil, tutil)"
   ]
  }
 ],
 "metadata": {
  "kernelspec": {
   "display_name": "Python 3 (ipykernel)",
   "language": "python",
   "name": "python3"
  },
  "language_info": {
   "codemirror_mode": {
    "name": "ipython",
    "version": 3
   },
   "file_extension": ".py",
   "mimetype": "text/x-python",
   "name": "python",
   "nbconvert_exporter": "python",
   "pygments_lexer": "ipython3",
   "version": "3.9.2"
  }
 },
 "nbformat": 4,
 "nbformat_minor": 5
}
